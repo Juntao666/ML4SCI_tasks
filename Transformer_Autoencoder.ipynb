{
  "nbformat": 4,
  "nbformat_minor": 0,
  "metadata": {
    "colab": {
      "provenance": [],
      "gpuType": "T4"
    },
    "kernelspec": {
      "name": "python3",
      "display_name": "Python 3"
    },
    "language_info": {
      "name": "python"
    },
    "accelerator": "GPU"
  },
  "cells": [
    {
      "cell_type": "code",
      "execution_count": 1,
      "metadata": {
        "colab": {
          "base_uri": "https://localhost:8080/"
        },
        "id": "_fFbpit1r7wV",
        "outputId": "d4ad77ed-6c33-4888-d184-ba7cc5d702c6"
      },
      "outputs": [
        {
          "output_type": "stream",
          "name": "stdout",
          "text": [
            "--2025-03-31 01:23:37--  https://archive.ics.uci.edu/ml/machine-learning-databases/00280/HIGGS.csv.gz\n",
            "Resolving archive.ics.uci.edu (archive.ics.uci.edu)... 128.195.10.252\n",
            "Connecting to archive.ics.uci.edu (archive.ics.uci.edu)|128.195.10.252|:443... connected.\n",
            "HTTP request sent, awaiting response... 200 OK\n",
            "Length: unspecified\n",
            "Saving to: ‘HIGGS.csv.gz’\n",
            "\n",
            "HIGGS.csv.gz            [   <=>              ]   2.62G  27.3MB/s    in 2m 13s  \n",
            "\n",
            "2025-03-31 01:25:50 (20.3 MB/s) - ‘HIGGS.csv.gz’ saved [2816407858]\n",
            "\n",
            "Loaded data shape: (1200000, 29)\n"
          ]
        }
      ],
      "source": [
        "import pandas as pd\n",
        "import numpy as np\n",
        "from sklearn.model_selection import train_test_split\n",
        "from sklearn.preprocessing import StandardScaler\n",
        "import torch\n",
        "from torch.utils.data import TensorDataset, DataLoader\n",
        "import torch.nn as nn\n",
        "\n",
        "!wget https://archive.ics.uci.edu/ml/machine-learning-databases/00280/HIGGS.csv.gz\n",
        "!gunzip HIGGS.csv.gz\n",
        "data = pd.read_csv(\"HIGGS.csv\", header=None, nrows=1200000)\n",
        "print(\"Loaded data shape:\", data.shape)"
      ]
    },
    {
      "cell_type": "code",
      "source": [
        "X = data.iloc[:, 1:22].values\n",
        "y = data.iloc[:, 0].values\n",
        "\n",
        "X_train, X_test = X[:1100000], X[1100000:]\n",
        "y_train, y_test = y[:1100000], y[1100000:]\n",
        "\n",
        "scaler = StandardScaler()\n",
        "X_train = scaler.fit_transform(X_train)\n",
        "X_test = scaler.transform(X_test)\n",
        "\n",
        "X_train_tensor = torch.tensor(X_train, dtype=torch.float32)\n",
        "y_train_tensor = torch.tensor(y_train, dtype=torch.float32)\n",
        "X_test_tensor = torch.tensor(X_test, dtype=torch.float32)\n",
        "y_test_tensor = torch.tensor(y_test, dtype=torch.float32)\n",
        "\n",
        "train_loader = DataLoader(TensorDataset(X_train_tensor, y_train_tensor), batch_size=512, shuffle=True)\n",
        "test_loader = DataLoader(TensorDataset(X_test_tensor, y_test_tensor), batch_size=512)"
      ],
      "metadata": {
        "id": "gFrqK4JmuSxQ"
      },
      "execution_count": 2,
      "outputs": []
    },
    {
      "cell_type": "code",
      "source": [
        "class TransformerAutoencoder(nn.Module):\n",
        "    def __init__(self, input_dim=21, emb_dim=64, nhead=4, depth=2):\n",
        "        super().__init__()\n",
        "        self.embedding = nn.Linear(input_dim, emb_dim)\n",
        "\n",
        "        encoder_layer = nn.TransformerEncoderLayer(d_model=emb_dim, nhead=nhead, batch_first=True)\n",
        "        self.encoder = nn.TransformerEncoder(encoder_layer, num_layers=depth)\n",
        "\n",
        "        self.decoder = nn.Sequential(\n",
        "            nn.Linear(emb_dim, 128),\n",
        "            nn.ReLU(),\n",
        "            nn.Linear(128, input_dim)\n",
        "        )\n",
        "\n",
        "        self.classifier = nn.Sequential(\n",
        "            nn.Linear(emb_dim, 64),\n",
        "            nn.ReLU(),\n",
        "            nn.Linear(64, 1)\n",
        "        )\n",
        "\n",
        "    def forward(self, x):\n",
        "        x = self.embedding(x).unsqueeze(1)\n",
        "        latent = self.encoder(x).squeeze(1)\n",
        "        recon = self.decoder(latent)\n",
        "        out = self.classifier(latent)\n",
        "        return recon, out, latent"
      ],
      "metadata": {
        "id": "yyIS9erLx07-"
      },
      "execution_count": 3,
      "outputs": []
    },
    {
      "cell_type": "code",
      "source": [
        "device = torch.device(\"cuda\" if torch.cuda.is_available() else \"cpu\")\n",
        "print(\"Using device:\", device)\n",
        "model = TransformerAutoencoder().to(device)\n",
        "optimizer = torch.optim.Adam(model.parameters(), lr=1e-3)\n",
        "loss_fn = nn.MSELoss()\n",
        "\n",
        "model.train()\n",
        "for epoch in range(20):\n",
        "    total_loss = 0\n",
        "    for X_batch, _ in train_loader:\n",
        "        X_batch = X_batch.to(device)\n",
        "        optimizer.zero_grad()\n",
        "        recon, _, _ = model(X_batch)\n",
        "        loss = loss_fn(recon, X_batch)\n",
        "        loss.backward()\n",
        "        optimizer.step()\n",
        "        total_loss += loss.item()\n",
        "    print(f'Epoch {epoch+1}: AE Loss = {total_loss:.4f}')"
      ],
      "metadata": {
        "colab": {
          "base_uri": "https://localhost:8080/"
        },
        "id": "ULx5aBucx2Ee",
        "outputId": "1c57b9cd-bfe6-4c9a-8234-130737edec8c"
      },
      "execution_count": 4,
      "outputs": [
        {
          "output_type": "stream",
          "name": "stdout",
          "text": [
            "Using device: cuda\n",
            "Epoch 1: AE Loss = 26.9391\n",
            "Epoch 2: AE Loss = 0.6692\n",
            "Epoch 3: AE Loss = 0.4352\n",
            "Epoch 4: AE Loss = 0.2788\n",
            "Epoch 5: AE Loss = 0.2821\n",
            "Epoch 6: AE Loss = 0.2170\n",
            "Epoch 7: AE Loss = 0.2117\n",
            "Epoch 8: AE Loss = 0.2553\n",
            "Epoch 9: AE Loss = 0.1746\n",
            "Epoch 10: AE Loss = 0.1825\n",
            "Epoch 11: AE Loss = 0.1920\n",
            "Epoch 12: AE Loss = 0.2007\n",
            "Epoch 13: AE Loss = 0.1705\n",
            "Epoch 14: AE Loss = 0.2152\n",
            "Epoch 15: AE Loss = 0.1318\n",
            "Epoch 16: AE Loss = 0.2437\n",
            "Epoch 17: AE Loss = 0.1036\n",
            "Epoch 18: AE Loss = 0.1221\n",
            "Epoch 19: AE Loss = 0.1460\n",
            "Epoch 20: AE Loss = 0.1443\n"
          ]
        }
      ]
    },
    {
      "cell_type": "code",
      "source": [
        "for param in model.embedding.parameters():\n",
        "    param.requires_grad = False\n",
        "for param in model.encoder.parameters():\n",
        "    param.requires_grad = False\n",
        "\n",
        "clf_optimizer = torch.optim.Adam(model.classifier.parameters(), lr=1e-3)\n",
        "clf_loss_fn = nn.BCEWithLogitsLoss()\n",
        "\n",
        "model.train()\n",
        "for epoch in range(20):\n",
        "    total_loss = 0\n",
        "    for X_batch, y_batch in train_loader:\n",
        "        X_batch = X_batch.to(device)\n",
        "        y_batch = y_batch.to(device)\n",
        "        clf_optimizer.zero_grad()\n",
        "        _, logits, _ = model(X_batch)\n",
        "        loss = clf_loss_fn(logits.squeeze(), y_batch)\n",
        "        loss.backward()\n",
        "        clf_optimizer.step()\n",
        "        total_loss += loss.item()\n",
        "    print(f'Epoch {epoch+1}: Classifier Loss = {total_loss:.4f}')"
      ],
      "metadata": {
        "colab": {
          "base_uri": "https://localhost:8080/"
        },
        "id": "V0Agvkb8x-ct",
        "outputId": "b6d0e73b-01ae-41ab-f24f-ca91dcc35327"
      },
      "execution_count": 5,
      "outputs": [
        {
          "output_type": "stream",
          "name": "stdout",
          "text": [
            "Epoch 1: Classifier Loss = 1399.3053\n",
            "Epoch 2: Classifier Loss = 1360.9784\n",
            "Epoch 3: Classifier Loss = 1348.1576\n",
            "Epoch 4: Classifier Loss = 1340.0283\n",
            "Epoch 5: Classifier Loss = 1333.6777\n",
            "Epoch 6: Classifier Loss = 1328.5150\n",
            "Epoch 7: Classifier Loss = 1324.8012\n",
            "Epoch 8: Classifier Loss = 1321.4773\n",
            "Epoch 9: Classifier Loss = 1319.7626\n",
            "Epoch 10: Classifier Loss = 1317.3523\n",
            "Epoch 11: Classifier Loss = 1315.4938\n",
            "Epoch 12: Classifier Loss = 1314.3853\n",
            "Epoch 13: Classifier Loss = 1313.6477\n",
            "Epoch 14: Classifier Loss = 1312.6304\n",
            "Epoch 15: Classifier Loss = 1312.1768\n",
            "Epoch 16: Classifier Loss = 1311.0784\n",
            "Epoch 17: Classifier Loss = 1310.4038\n",
            "Epoch 18: Classifier Loss = 1309.9344\n",
            "Epoch 19: Classifier Loss = 1309.2975\n",
            "Epoch 20: Classifier Loss = 1309.1229\n"
          ]
        }
      ]
    },
    {
      "cell_type": "code",
      "source": [
        "from sklearn.metrics import roc_auc_score, roc_curve\n",
        "import matplotlib.pyplot as plt\n",
        "\n",
        "model.eval()\n",
        "all_preds, all_labels = [], []\n",
        "with torch.no_grad():\n",
        "    for X_batch, y_batch in test_loader:\n",
        "        X_batch = X_batch.to(device)\n",
        "        _, logits, _ = model(X_batch)\n",
        "        all_preds.extend(torch.sigmoid(logits.squeeze()).cpu().numpy())\n",
        "        all_labels.extend(y_batch.cpu().numpy())\n",
        "\n",
        "auc = roc_auc_score(all_labels, all_preds)\n",
        "print(f'ROC AUC Score = {auc:.4f}')\n",
        "\n",
        "fpr, tpr, _ = roc_curve(all_labels, all_preds)\n",
        "plt.figure(figsize=(8,6))\n",
        "plt.plot(fpr, tpr, label=f'ROC Curve (AUC = {auc:.4f})')\n",
        "plt.plot([0, 1], [0, 1], '--', color='gray')\n",
        "plt.xlabel(\"False Positive Rate\")\n",
        "plt.ylabel(\"True Positive Rate\")\n",
        "plt.title(\"ROC Curve\")\n",
        "plt.legend()\n",
        "plt.grid(True)\n",
        "plt.show()"
      ],
      "metadata": {
        "colab": {
          "base_uri": "https://localhost:8080/",
          "height": 581
        },
        "id": "y-Oxa_9s32Yz",
        "outputId": "6eebaa43-6143-4efb-f297-d7feb510b6cf"
      },
      "execution_count": 6,
      "outputs": [
        {
          "output_type": "stream",
          "name": "stdout",
          "text": [
            "ROC AUC Score = 0.7280\n"
          ]
        },
        {
          "output_type": "display_data",
          "data": {
            "text/plain": [
              "<Figure size 800x600 with 1 Axes>"
            ],
            "image/png": "[encoded data removed]"
          },
          "metadata": {}
        }
      ]
    },
    {
      "cell_type": "markdown",
      "source": [
        "#Model Selection and Optimization Discussion"
      ],
      "metadata": {
        "id": "yTMOLpBRzapq"
      }
    },
    {
      "cell_type": "markdown",
      "source": [
        "**Model Selection: Transformer Autoencoder**\n",
        "\n",
        "For this task, I implemented a lightweight Transformer Autoencoder architecture to process tabular data (21 high-level physics features). The reasons for this choice are:\n",
        "\n",
        "1. Transformers excel at learning global dependencies through self-attention, which is beneficial for capturing relationships among different features.\n",
        "\n",
        "2. An autoencoder structure allows us to learn compressed latent representations in an unsupervised fashion before classification.\n",
        "\n",
        "3. A shallow encoder with 2 Transformer layers and an embedding size of 64 was used to reduce overfitting and training time, especially given the large dataset size.\n",
        "\n",
        "Architecture summary:\n",
        "\n",
        "Input projection: 21 → 64 via a linear layer\n",
        "\n",
        "Encoder: 2 layers of nn.TransformerEncoderLayer (d_model=64, nhead=4)\n",
        "\n",
        "Decoder: 64 → 128 → 21 (for reconstruction)\n",
        "\n",
        "Classifier: 64 → 64 → 1 (for binary classification)"
      ],
      "metadata": {
        "id": "7V35dAvPzcST"
      }
    },
    {
      "cell_type": "markdown",
      "source": [
        "**Optimization Strategy**\n",
        "\n",
        "Pretraining Phase:\n",
        "I trained the autoencoder using MSE loss to reconstruct the input features. This allowed the encoder to learn meaningful latent representations of the events in an unsupervised way.\n",
        "\n",
        "Classification Phase:\n",
        "After pretraining, I froze the encoder and trained a lightweight classifier on the latent vectors using binary cross-entropy loss (BCEWithLogitsLoss).\n",
        "\n",
        "Hardware:\n",
        "I used GPU acceleration via CUDA on Google Colab to handle the large-scale dataset (~1.2M samples), significantly reducing training time.\n",
        "\n",
        "Training Details:\n",
        "\n",
        "Batch size: 512\n",
        "\n",
        "Optimizer: Adam with learning rate 0.001\n",
        "\n",
        "Pretraining epochs: 20\n",
        "\n",
        "Classification epochs: 20"
      ],
      "metadata": {
        "id": "dpjAsbgT00LS"
      }
    }
  ]
}